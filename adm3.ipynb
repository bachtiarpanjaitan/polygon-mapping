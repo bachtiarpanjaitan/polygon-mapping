{
 "cells": [
  {
   "cell_type": "code",
   "execution_count": 1,
   "metadata": {},
   "outputs": [],
   "source": [
    "import json\n",
    "\n",
    "file_adm = open('adm3-db.json')\n",
    "file_pol = open('adm3-polygon.json')\n",
    "output = open('output/adm3.json','w')\n",
    "from shapely.geometry import shape\n",
    "\n",
    "data = json.load(file_adm)\n",
    "data_pol = json.load(file_pol)\n",
    "\n",
    "temp_data = []\n",
    "\n",
    "for i,item in enumerate(data['features']):\n",
    "    center = shape(data_pol['geometries'][i]).centroid\n",
    "    y = center.y\n",
    "    x = center.x\n",
    "    prop = {\n",
    "        \"shape_leng\": item['properties']['Shape_Leng'],\n",
    "        \"shape_area\": item['properties']['Shape_Area'],\n",
    "        \"name\": item['properties']['ADM3_EN'],\n",
    "        \"code\": item['properties']['ADM3_PCODE'],\n",
    "        \"adm0\": item['properties']['ADM0_EN'],\n",
    "        \"adm0_code\": item['properties']['ADM0_PCODE'],\n",
    "        \"adm1\": item['properties']['ADM1_EN'],\n",
    "        \"adm1_code\": item['properties']['ADM1_PCODE'],\n",
    "        \"adm2\": item['properties']['ADM2_EN'],\n",
    "        \"adm2_code\": item['properties']['ADM2_PCODE'],\n",
    "        \"x\": x,\n",
    "        \"y\": y,\n",
    "        \"id\":None\n",
    "    }\n",
    "    prop['coordinates'] = {\n",
    "        \"type\": 'FeatureCollection',\n",
    "        'features': [\n",
    "            {\n",
    "                \"type\": 'Feature',\n",
    "                \"properties\": {},\n",
    "                \"geometry\": json.dumps(data_pol['geometries'][i])\n",
    "            }\n",
    "        ]\n",
    "    }\n",
    "    temp_data.append(prop)\n",
    "\n",
    "json_string = json.dumps(temp_data)\n",
    "output.write(json_string)\n",
    "file_adm.close()\n",
    "file_pol.close()\n",
    "output.close()"
   ]
  }
 ],
 "metadata": {
  "kernelspec": {
   "display_name": "polymapping",
   "language": "python",
   "name": "python3"
  },
  "language_info": {
   "codemirror_mode": {
    "name": "ipython",
    "version": 3
   },
   "file_extension": ".py",
   "mimetype": "text/x-python",
   "name": "python",
   "nbconvert_exporter": "python",
   "pygments_lexer": "ipython3",
   "version": "3.10.9"
  },
  "orig_nbformat": 4,
  "vscode": {
   "interpreter": {
    "hash": "d41e40d5dfcba7f284e2abb39e55e5076a2667adc399334e0736f9fcc2e009fa"
   }
  }
 },
 "nbformat": 4,
 "nbformat_minor": 2
}
